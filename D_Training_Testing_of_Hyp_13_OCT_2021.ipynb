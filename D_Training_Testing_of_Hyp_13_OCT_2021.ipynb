{
 "cells": [
  {
   "cell_type": "markdown",
   "id": "ae1c1da2",
   "metadata": {},
   "source": [
    "# Testing of Hypothesis"
   ]
  },
  {
   "cell_type": "markdown",
   "id": "16b018db",
   "metadata": {},
   "source": [
    "### Normality Test\n",
    "\n",
    " Shapiro-Wilk test\n",
    "\n",
    " To test Ho: sample data follows Normal distribution  ag   Ha: sample data do not follow Normal distribution\n"
   ]
  },
  {
   "cell_type": "code",
   "execution_count": 3,
   "id": "36f79739",
   "metadata": {},
   "outputs": [
    {
     "data": {
      "text/plain": [
       "array([-0.44885421,  0.96353303, -1.01782553,  0.95132735,  0.93232274,\n",
       "        2.27752056,  1.58294448, -0.940431  ,  1.39276749, -0.93573183])"
      ]
     },
     "execution_count": 3,
     "metadata": {},
     "output_type": "execute_result"
    }
   ],
   "source": [
    "import numpy as np\n",
    "\n",
    "numbers = np.random.normal(loc=0, scale=1, size=10)\n",
    "\n",
    "numbers\n"
   ]
  },
  {
   "cell_type": "code",
   "execution_count": 4,
   "id": "0b8882e7",
   "metadata": {},
   "outputs": [
    {
     "name": "stdout",
     "output_type": "stream",
     "text": [
      "test statistic=0.88, p value=0.12\n"
     ]
    }
   ],
   "source": [
    "from scipy.stats import shapiro\n",
    "\n",
    "data = [-0.38643607,  1.73557419, -0.0911418 , -1.08161919, -0.36203798,\n",
    "        0.72519735,  0.10326694, -0.00982909, -0.1441663 , -0.23285427]\n",
    "\n",
    "test_stat, p_value = shapiro(data)\n",
    "\n",
    "print('test statistic=%.2f, p value=%.2f' %(test_stat, p_value))"
   ]
  },
  {
   "cell_type": "markdown",
   "id": "5f12bb6e",
   "metadata": {},
   "source": [
    "#### Since p= 0.12 and alpha=0.05 (i.e. taken as 5% level of significance),\n",
    "we can say that as p is not < alpha, we fail to reject Ho and suggest that the data follows a Normal distribution\n",
    "at 5% level of significance"
   ]
  },
  {
   "cell_type": "markdown",
   "id": "07d992fb",
   "metadata": {},
   "source": [
    "### Equality of variance test\n",
    "\n",
    "Levene test\n",
    "\n",
    "To test Ho: k samples have equal variance  against   Ha: k samples do not have equal variance\n"
   ]
  },
  {
   "cell_type": "code",
   "execution_count": 5,
   "id": "6c43af01",
   "metadata": {},
   "outputs": [],
   "source": [
    "\n",
    "from scipy.stats import levene\n",
    "\n",
    "data_1 = [26, 28, 30, 32, 34]\n",
    "\n",
    "data_2 = [10,  20,  30,  40,  50]\n"
   ]
  },
  {
   "cell_type": "code",
   "execution_count": 7,
   "id": "9d856d10",
   "metadata": {},
   "outputs": [
    {
     "data": {
      "text/plain": [
       "8.0"
      ]
     },
     "execution_count": 7,
     "metadata": {},
     "output_type": "execute_result"
    }
   ],
   "source": [
    "np.var(data_1)"
   ]
  },
  {
   "cell_type": "code",
   "execution_count": 8,
   "id": "a3e98b38",
   "metadata": {},
   "outputs": [
    {
     "data": {
      "text/plain": [
       "200.0"
      ]
     },
     "execution_count": 8,
     "metadata": {},
     "output_type": "execute_result"
    }
   ],
   "source": [
    "np.var(data_2)"
   ]
  },
  {
   "cell_type": "code",
   "execution_count": 9,
   "id": "5bf3a54d",
   "metadata": {},
   "outputs": [
    {
     "name": "stdout",
     "output_type": "stream",
     "text": [
      "test statistic=6.33, p value=0.04\n"
     ]
    }
   ],
   "source": [
    "test_stat, p_value = levene(data_1, data_2)\n",
    "\n",
    "print('test statistic=%.2f, p value=%.2f' %(test_stat, p_value))"
   ]
  },
  {
   "cell_type": "markdown",
   "id": "3062841c",
   "metadata": {},
   "source": [
    "#### Since p= 0.04 and alpha=0.05 (i.e. taken as 5% level of significance),\n",
    "we can say that as p is < alpha, we reject Ho and suggest that the samples do not have equal variance"
   ]
  },
  {
   "cell_type": "markdown",
   "id": "97f4613e",
   "metadata": {},
   "source": [
    "### Equality of variance test\n",
    "\n",
    "#### Bartlett test"
   ]
  },
  {
   "cell_type": "code",
   "execution_count": 16,
   "id": "4383f9af",
   "metadata": {},
   "outputs": [],
   "source": [
    "\n",
    "from scipy.stats import bartlett\n",
    "\n",
    "data_1 = np.arange(10, 101, 2)\n",
    "\n",
    "data_2 = np.arange(10, 101, 2)\n"
   ]
  },
  {
   "cell_type": "code",
   "execution_count": 17,
   "id": "d2e0bbbe",
   "metadata": {},
   "outputs": [
    {
     "data": {
      "text/plain": [
       "array([ 10,  12,  14,  16,  18,  20,  22,  24,  26,  28,  30,  32,  34,\n",
       "        36,  38,  40,  42,  44,  46,  48,  50,  52,  54,  56,  58,  60,\n",
       "        62,  64,  66,  68,  70,  72,  74,  76,  78,  80,  82,  84,  86,\n",
       "        88,  90,  92,  94,  96,  98, 100])"
      ]
     },
     "execution_count": 17,
     "metadata": {},
     "output_type": "execute_result"
    }
   ],
   "source": [
    "data_1"
   ]
  },
  {
   "cell_type": "code",
   "execution_count": 18,
   "id": "f4c96089",
   "metadata": {},
   "outputs": [
    {
     "data": {
      "text/plain": [
       "array([ 10,  12,  14,  16,  18,  20,  22,  24,  26,  28,  30,  32,  34,\n",
       "        36,  38,  40,  42,  44,  46,  48,  50,  52,  54,  56,  58,  60,\n",
       "        62,  64,  66,  68,  70,  72,  74,  76,  78,  80,  82,  84,  86,\n",
       "        88,  90,  92,  94,  96,  98, 100])"
      ]
     },
     "execution_count": 18,
     "metadata": {},
     "output_type": "execute_result"
    }
   ],
   "source": [
    "data_2"
   ]
  },
  {
   "cell_type": "code",
   "execution_count": 19,
   "id": "57a3d576",
   "metadata": {},
   "outputs": [
    {
     "data": {
      "text/plain": [
       "705.0"
      ]
     },
     "execution_count": 19,
     "metadata": {},
     "output_type": "execute_result"
    }
   ],
   "source": [
    "np.var(data_1)"
   ]
  },
  {
   "cell_type": "code",
   "execution_count": 20,
   "id": "1c65500a",
   "metadata": {},
   "outputs": [
    {
     "data": {
      "text/plain": [
       "705.0"
      ]
     },
     "execution_count": 20,
     "metadata": {},
     "output_type": "execute_result"
    }
   ],
   "source": [
    "np.var(data_2)"
   ]
  },
  {
   "cell_type": "code",
   "execution_count": 21,
   "id": "76b9210f",
   "metadata": {},
   "outputs": [
    {
     "name": "stdout",
     "output_type": "stream",
     "text": [
      "test statistic=0.00, p value=1.00\n"
     ]
    }
   ],
   "source": [
    "test_stat, p_value = bartlett(data_1, data_2)\n",
    "\n",
    "print('test statistic=%.2f, p value=%.2f' %(test_stat, p_value))"
   ]
  },
  {
   "cell_type": "markdown",
   "id": "4ab54125",
   "metadata": {},
   "source": [
    "#### Since p= 1.00 and alpha=0.05 (i.e. taken as 5% level of significance),\n",
    "we can say that as p is not < alpha, we fail to reject Ho and suggest that the samples have equal variance"
   ]
  },
  {
   "cell_type": "markdown",
   "id": "90d8438a",
   "metadata": {},
   "source": [
    "### One sample t test\n",
    "\n",
    "  To test Ho: the population mean = specific value against Ha: the population mean is not equal to the specific value\n",
    "\n",
    "  To test Ho: population mean = 471 against Ha: population mean > 471   (ONE TAILED TEST)"
   ]
  },
  {
   "cell_type": "code",
   "execution_count": 2,
   "id": "8d21004d",
   "metadata": {},
   "outputs": [],
   "source": [
    "data = [445, 489, 474, 505, 553, 477, 454, 463, 466, 557, 502, 449, 438, 500, 466, 477, 557, 433, 545, 511, 590,\n",
    "       561, 560]"
   ]
  },
  {
   "cell_type": "code",
   "execution_count": 24,
   "id": "0227a605",
   "metadata": {},
   "outputs": [
    {
     "name": "stdout",
     "output_type": "stream",
     "text": [
      "test statistic=2.84, p value=0.01\n"
     ]
    }
   ],
   "source": [
    "from scipy.stats import ttest_1samp\n",
    "\n",
    "test_stat, p_value = ttest_1samp(data, popmean=471, alternative='two-sided') # By default two tailed test\n",
    "\n",
    "print('test statistic=%.2f, p value=%.2f' %(test_stat, p_value))"
   ]
  },
  {
   "cell_type": "markdown",
   "id": "b2b3d6d9",
   "metadata": {},
   "source": [
    "#### Since this is a one-tailed test and ttest_1samp() is a two tailed test by default,\n",
    "so, we divide the p value by 2 i.e 0.01/2 and check with alpha"
   ]
  },
  {
   "cell_type": "code",
   "execution_count": 25,
   "id": "fd5d8cff",
   "metadata": {},
   "outputs": [
    {
     "data": {
      "text/plain": [
       "0.005"
      ]
     },
     "execution_count": 25,
     "metadata": {},
     "output_type": "execute_result"
    }
   ],
   "source": [
    "correct_p_value = 0.01/2\n",
    "correct_p_value"
   ]
  },
  {
   "cell_type": "markdown",
   "id": "c633a8c9",
   "metadata": {},
   "source": [
    "#### Since correct_p_value= 0.005 and alpha=0.05 (i.e. taken as 5% level of significance),\n",
    "we can say that as p is < alpha, we reject Ho and suggest that the population mean > 471"
   ]
  },
  {
   "cell_type": "code",
   "execution_count": 3,
   "id": "0ff715c3",
   "metadata": {},
   "outputs": [
    {
     "name": "stdout",
     "output_type": "stream",
     "text": [
      "test statistic=2.838, p value=0.005\n"
     ]
    }
   ],
   "source": [
    "from scipy.stats import ttest_1samp\n",
    "\n",
    "test_stat, p_value = ttest_1samp(data, popmean=471, alternative='greater') # alternative: right tailed\n",
    "\n",
    "print('test statistic=%.3f, p value=%.3f' %(test_stat, p_value))"
   ]
  },
  {
   "cell_type": "markdown",
   "id": "7e646834",
   "metadata": {},
   "source": [
    "#### Since p value is < alpha, we reject Ho and suggest that the population mean > 471"
   ]
  },
  {
   "cell_type": "markdown",
   "id": "43251e08",
   "metadata": {},
   "source": [
    "### Two sample t test (Independent sample)\n",
    "\n",
    "To test Ho: means of the two groups are equal against   Ha: the means of the two groups are unequal\n",
    "\n",
    "New employees are expected to attend a 1 month training program to know Analytics. At the end of the seminar, they are tested\n",
    "to measure their knowledge about Analytics. The usual training method comprises of lectures and QnA session. Management\n",
    "decides to experiment with different training procedure where the new employees are given recorded sessions.\n",
    "If the procedure works, it could save the Company huge amount of money. However, there will also be a concern about the \n",
    "effectiveness of this new method and the company would like to know whether there is any difference in the effectiveness\n",
    "of the two methods"
   ]
  },
  {
   "cell_type": "code",
   "execution_count": 71,
   "id": "780e8bd7",
   "metadata": {},
   "outputs": [],
   "source": [
    "data1 = [56,50, 52,44,52,47,47,53,45,48,42,51,42,43,44]\n",
    "\n",
    "data2 = [59,54,55,65,52,57,64,53,53,56,53,57]"
   ]
  },
  {
   "cell_type": "code",
   "execution_count": 72,
   "id": "8578b921",
   "metadata": {},
   "outputs": [],
   "source": [
    "# t-Test: Two sample assuming Equal Variance\n",
    "\n",
    "# Variance is unknown but assumed to be approximately equal (equal_var = True)\n",
    "\n",
    "# To test Ho: means of group 1 and group 2 are equal against Ha: the means of the two groups are unequal"
   ]
  },
  {
   "cell_type": "code",
   "execution_count": 73,
   "id": "04e44b72",
   "metadata": {},
   "outputs": [
    {
     "name": "stdout",
     "output_type": "stream",
     "text": [
      "test statistic=-5.20, p value=0.0000\n"
     ]
    }
   ],
   "source": [
    "from scipy.stats import ttest_ind\n",
    "\n",
    "test_stat, p_value = ttest_ind(data1,data2, equal_var=True,alternative='two-sided') \n",
    "# By default two tailed test and equal var=True\n",
    "\n",
    "print('test statistic=%.2f, p value=%.4f' %(test_stat, p_value))\n"
   ]
  },
  {
   "cell_type": "code",
   "execution_count": 74,
   "id": "eabbbf13",
   "metadata": {},
   "outputs": [],
   "source": [
    "# Since this is a two tailed test, we div the p value by two\n",
    "# So correct p value = p value/2 = 0.0000\n",
    "# Since correct p value is less than alpha=0.025 (two tailed test, so alpha/2), we reject Ho and suggest that the\n",
    "# population means of the two group are unequal at 5% level of significance assuming unknown variances are approximately equal"
   ]
  },
  {
   "cell_type": "code",
   "execution_count": 75,
   "id": "6a008b05",
   "metadata": {},
   "outputs": [],
   "source": [
    "# t-Test: Two sample assuming Unequal Variances\n",
    "\n",
    "# Variance is unknown but assumed to be  unequal (equal_var = False)\n",
    "\n",
    "# To test Ho: means of group 1 and group 2 are equal against Ha: the means of the two groups are unequal"
   ]
  },
  {
   "cell_type": "code",
   "execution_count": 76,
   "id": "33569939",
   "metadata": {},
   "outputs": [
    {
     "name": "stdout",
     "output_type": "stream",
     "text": [
      "test statistic=-5.2182, p value=0.0000\n"
     ]
    }
   ],
   "source": [
    "from scipy.stats import ttest_ind\n",
    "\n",
    "test_stat, p_value = ttest_ind(data1,data2, equal_var=False,alternative='two-sided') \n",
    "# By default two tailed test and equal var=True\n",
    "\n",
    "print('test statistic=%.4f, p value=%.4f' %(test_stat, p_value))\n"
   ]
  },
  {
   "cell_type": "code",
   "execution_count": 77,
   "id": "8344f91c",
   "metadata": {},
   "outputs": [],
   "source": [
    "# Since p value/2 = 0.0000 is less than alpha=0.025, we reject Ho and suggest that the population means of the two group\n",
    "# are unequal at 5% level of significance assuming unknown variances are unequal"
   ]
  },
  {
   "cell_type": "code",
   "execution_count": 27,
   "id": "211969a7",
   "metadata": {},
   "outputs": [],
   "source": [
    "# Paired t Test or Related t Test (Dependent sample)\n",
    "\n",
    "# To test Ho: there is no difference between the two means of the same group  against   \n",
    "# Ha: there is difference between the two means of the same group\n",
    "\n",
    "# e.g Before and after study  -----> Study of 15 people before and after attending the 1 month weight loss training program\n",
    "\n",
    "# Given below is the dataset of weight of 8 patients before and after taking a particular drug that claims to lose\n",
    "# weight in patients\n",
    "\n",
    "# This will help us to judge the efficacy of the particular drug\n",
    "\n",
    "# So, this is a case of Related t test \n",
    "\n",
    "wt_before = [162,170,184,164,172,176,159,170]\n",
    "\n",
    "wt_after = [168,158,186,155,143,161,160,135]\n"
   ]
  },
  {
   "cell_type": "code",
   "execution_count": 28,
   "id": "531a4338",
   "metadata": {},
   "outputs": [],
   "source": [
    "# To test Ho: there is no difference between the mean weight of the patients before and after taking the drug  against   \n",
    "# Ha: mean weight of the patients before taking the drug > mean weight of the patients after taking the drug\n",
    "\n",
    "# If Ho is rejected, we can claim that the particular drug is efficient in reducing the weight of the patients\n"
   ]
  },
  {
   "cell_type": "code",
   "execution_count": 29,
   "id": "95237ba0",
   "metadata": {},
   "outputs": [
    {
     "name": "stdout",
     "output_type": "stream",
     "text": [
      "test statistic=2.18, p value=0.03\n"
     ]
    }
   ],
   "source": [
    "from scipy.stats import ttest_rel\n",
    "\n",
    "test_stat, p_value = ttest_rel(wt_before,wt_after, alternative='greater') # By default two tailed test\n",
    "# By default two tailed test and equal var=True\n",
    "\n",
    "print('test statistic=%.2f, p value=%.2f' %(test_stat, p_value))\n"
   ]
  },
  {
   "cell_type": "code",
   "execution_count": 78,
   "id": "7e6665a1",
   "metadata": {},
   "outputs": [],
   "source": [
    "# Since p value=0.03 is less than alpha=0.05, we reject Ho and suggest that the drug is efficient in reducing weight\n",
    "# of the patients at 5% level of significance "
   ]
  },
  {
   "cell_type": "code",
   "execution_count": 79,
   "id": "9ee581ef",
   "metadata": {},
   "outputs": [
    {
     "name": "stdout",
     "output_type": "stream",
     "text": [
      "test statistic=0.0071, p value=0.4972\n"
     ]
    }
   ],
   "source": [
    "# ONE SAMPLE Z TEST \n",
    "\n",
    "# In Z test population variance is known\n",
    "\n",
    "# To test Ho: the population mean = specific value against Ha: the population mean is not equal to the specific value\n",
    "\n",
    "# According to HowtoAdvice.com, the average price charged to a customer to have a\n",
    "# 12 by 18 wall-to-wall carpet shampoo cleaned is about $50. Suppose that a start-up\n",
    "# carpet-cleaning company believes that in the region in which they operate, the\n",
    "# average price for this service is higher. To test this hypothesis, the carpet-cleaning\n",
    "# company randomly contacts 23 customers who have recently had a 12 by 18\n",
    "# wall-to-wall carpet shampoo cleaned and asked the customers how much they\n",
    "# were charged for the job. Suppose the resulting data are given below and that the\n",
    "# population standard deviation price is $3.49. Use a 10% level of significance to test\n",
    "# their hypothesis\n",
    "\n",
    "data = [52, 52, 56, 50, 50, 51, 49, 49, 54, 51, 51, 48,\n",
    "56, 52, 52, 53, 56, 52, 52, 56, 57, 48, 53]\n",
    "\n",
    "\n",
    "# To test Ho : 𝜇 = 50 against Ha: 𝜇 > 50\n",
    "\n",
    "# Population std dev, 𝜎 = 3.49 (given)\n",
    "\n",
    "from scipy import stats\n",
    "from statsmodels.stats import weightstats  \n",
    "\n",
    "test_stat, p_value = weightstats.ztest(x1=data, x2=None, value=52.17, alternative='larger') # By default two tailed test\n",
    "# For one tailed Z test, value is the mean of the sample\n",
    "\n",
    "print('test statistic=%.4f, p value=%.4f' %(test_stat, p_value))"
   ]
  },
  {
   "cell_type": "code",
   "execution_count": 80,
   "id": "44072d5d",
   "metadata": {},
   "outputs": [
    {
     "data": {
      "text/plain": [
       "52.17391304347826"
      ]
     },
     "execution_count": 80,
     "metadata": {},
     "output_type": "execute_result"
    }
   ],
   "source": [
    "import numpy as np\n",
    "\n",
    "np.mean(data)"
   ]
  },
  {
   "cell_type": "code",
   "execution_count": 81,
   "id": "4225ff21",
   "metadata": {},
   "outputs": [],
   "source": [
    "# Since p value is less than alpha=0.1 (10% given), we reject Ho and suggest that the claim made by the start up that\n",
    "# in the region they operate, the average price for this service is higher is true at 10% level of significance "
   ]
  },
  {
   "cell_type": "code",
   "execution_count": 82,
   "id": "340ea3a3",
   "metadata": {},
   "outputs": [],
   "source": [
    "# 2 sample Z test\n",
    "\n",
    "# To test Ho: means of the two groups are equal against   Ha: the means of the two groups are unequal\n",
    "\n",
    "# A random sample of 32 advertising managers from across the United States is taken.\n",
    "# The advertising managers are contacted and asked what their annual salary is.\n",
    "# A similar random sample is taken of 34 auditing managers. The resulting salary data are\n",
    "# listed below, along with the population variances.\n",
    "\n",
    "# Test whether there is a difference in the average wage of an advertising manager and an auditing manager\n",
    "\n",
    "adv_mngr = [74.256, 64.276,96.234, 74.194, 89.807, 65.360, 93.261, 73.904, 103.030, 54.270, 74.195, 59.045,75.932, 68.508, \n",
    "                80.742, 71.115, 39.672, 67.574, 45.652, 59.621, 93.083, 62.483, 63.384, 69.319, 57.791, 35.394, 65.145, 86.741, \n",
    "                96.767, 57.351, 77.242, 67.056]\n",
    "\n",
    "aud_mngr = [69.962, 67.160,55.052, 37.386,57.828, 59.505,63.362, 72.790,37.194, 71.351,99.198, 58.653,61.254, 63.508,73.065, \n",
    "            43.649,48.036, 63.369,60.053, 59.676,66.359, 54.449,61.261, 46.394,77.136, 71.804,66.035, 72.401,54.335, 56.470,\n",
    "             42.494, 67.814,83.849, 71.492]\n",
    "\n",
    "# Population std for advertising manager = 16.253\n",
    "# Population std for auditing manager = 12.900\n",
    "\n",
    "\n",
    "# To test Ho: there is no difference in the average wage of an advertising manager and an auditing manager\n",
    "#  against Ha: there is a difference in the average wage of an advertising manager and an auditing manager\n"
   ]
  },
  {
   "cell_type": "code",
   "execution_count": 83,
   "id": "d4dd214a",
   "metadata": {},
   "outputs": [
    {
     "name": "stdout",
     "output_type": "stream",
     "text": [
      "test statistic=2.3642, p value=0.01807\n"
     ]
    }
   ],
   "source": [
    "from scipy import stats\n",
    "from statsmodels.stats import weightstats  \n",
    "\n",
    "test_stat, p_value = weightstats.ztest(adv_mngr, x2=aud_mngr, value=0) # By default two tailed test\n",
    "# In two sample case, value is the difference between the means under Ho\n",
    "# Here Ho: mean difference = 0,  so value=0\n",
    "\n",
    "print('test statistic=%.4f, p value=%.5f' %(test_stat, p_value))"
   ]
  },
  {
   "cell_type": "code",
   "execution_count": 65,
   "id": "016cda78",
   "metadata": {},
   "outputs": [],
   "source": [
    "# Since it is a two tailed test by default, the reported p value will always be computed fot two tailed test\n",
    "# So correct p value will be obtained by dividing the p value output by 2"
   ]
  },
  {
   "cell_type": "code",
   "execution_count": 84,
   "id": "1c2a3eca",
   "metadata": {},
   "outputs": [
    {
     "data": {
      "text/plain": [
       "0.009035"
      ]
     },
     "execution_count": 84,
     "metadata": {},
     "output_type": "execute_result"
    }
   ],
   "source": [
    "correct_p_value = 0.01807/2\n",
    "correct_p_value"
   ]
  },
  {
   "cell_type": "code",
   "execution_count": 86,
   "id": "8f0417e6",
   "metadata": {},
   "outputs": [],
   "source": [
    "# Since correct p value=0.009035 is less than alpha/2=0.025 (alpha = 5% assumed), we reject Ho and suggest that\n",
    "# there is a difference in the average wage of an advertising manager and an auditing manager\n",
    "# at 5% level of significance "
   ]
  },
  {
   "cell_type": "code",
   "execution_count": null,
   "id": "c4bce4ad",
   "metadata": {},
   "outputs": [],
   "source": []
  },
  {
   "cell_type": "code",
   "execution_count": 97,
   "id": "28887bde",
   "metadata": {},
   "outputs": [],
   "source": [
    "# ANOVA\n",
    "\n",
    "# Analysis of Variance (ANOVA) is a statistical technique that is used to check if the means of two or more groups are\n",
    "# significantly different from each other. \n",
    "\n",
    "# Assumptions\n",
    "\n",
    "# 1. The samples are independent.\n",
    "# 2. Each sample is from a normally distributed population.\n",
    "# 3. The population standard deviations of the groups are all equal.  \n",
    "#    This property is known as homoscedasticity.\n",
    "\n",
    "\n",
    "# To test Ho: mean of Group 1 = mean of Group 2 = mean of Group 3\n",
    "# against Ha: Atleast one of the Group means is different from the other\n",
    "\n",
    "# e.g. Studying the effect of smoking on different age groups\n",
    "\n",
    "# Suppose a claim has been made that age has a significant impact on smoking habits\n",
    "# i.e the factor “age” influences smoking habits.\n",
    "\n",
    "# Here Smoking is a continuous variable (no. of hrs of Cigarette smoking per month)\n",
    "# Age ----> converted into a Categorical variable with 3 Age groups\n",
    "# Age Group 1 -----> Upto 25 yrs\n",
    "# Age Group 2 -----> 25 to 40 yrs\n",
    "# Age Group 3 -----> Greater than 40 yrs\n",
    "\n",
    "\n",
    "# Another eg.\n",
    "\n",
    "# There are three Customer Relationship officers who sit at the branch and help customers get their requirements fulfilled.\n",
    "# These officers offer many services that can be offered using the customer data base available to each officer and without\n",
    "# any discretionary powers i.e. all officers have same operating environment.\n",
    "\n",
    "# The bank manager want to know if there is any difference in the efficiency of the 3 officers\n",
    "\n",
    "# To test Ho: Mean Performance of Officer 1 = Mean Performance of Officer 2 = Mean Performance of Officer 3\n",
    "# against Ha: Atleast one of the mean performance of Officer is different from the other\n",
    "\n",
    "import pandas as pd\n",
    "\n",
    "data = pd.DataFrame({'Officer': ['Officer_1','Officer_2','Officer_3']*6,\n",
    "                      'Performance': [15,22,18,18,27,24,19,18,19,22,21,16,11,17,22,0,0,15]})"
   ]
  },
  {
   "cell_type": "code",
   "execution_count": 98,
   "id": "3fb93e40",
   "metadata": {},
   "outputs": [
    {
     "data": {
      "text/html": [
       "<div>\n",
       "<style scoped>\n",
       "    .dataframe tbody tr th:only-of-type {\n",
       "        vertical-align: middle;\n",
       "    }\n",
       "\n",
       "    .dataframe tbody tr th {\n",
       "        vertical-align: top;\n",
       "    }\n",
       "\n",
       "    .dataframe thead th {\n",
       "        text-align: right;\n",
       "    }\n",
       "</style>\n",
       "<table border=\"1\" class=\"dataframe\">\n",
       "  <thead>\n",
       "    <tr style=\"text-align: right;\">\n",
       "      <th></th>\n",
       "      <th>Officer</th>\n",
       "      <th>Performance</th>\n",
       "    </tr>\n",
       "  </thead>\n",
       "  <tbody>\n",
       "    <tr>\n",
       "      <th>0</th>\n",
       "      <td>Officer_1</td>\n",
       "      <td>15</td>\n",
       "    </tr>\n",
       "    <tr>\n",
       "      <th>1</th>\n",
       "      <td>Officer_2</td>\n",
       "      <td>22</td>\n",
       "    </tr>\n",
       "    <tr>\n",
       "      <th>2</th>\n",
       "      <td>Officer_3</td>\n",
       "      <td>18</td>\n",
       "    </tr>\n",
       "    <tr>\n",
       "      <th>3</th>\n",
       "      <td>Officer_1</td>\n",
       "      <td>18</td>\n",
       "    </tr>\n",
       "    <tr>\n",
       "      <th>4</th>\n",
       "      <td>Officer_2</td>\n",
       "      <td>27</td>\n",
       "    </tr>\n",
       "    <tr>\n",
       "      <th>5</th>\n",
       "      <td>Officer_3</td>\n",
       "      <td>24</td>\n",
       "    </tr>\n",
       "    <tr>\n",
       "      <th>6</th>\n",
       "      <td>Officer_1</td>\n",
       "      <td>19</td>\n",
       "    </tr>\n",
       "    <tr>\n",
       "      <th>7</th>\n",
       "      <td>Officer_2</td>\n",
       "      <td>18</td>\n",
       "    </tr>\n",
       "    <tr>\n",
       "      <th>8</th>\n",
       "      <td>Officer_3</td>\n",
       "      <td>19</td>\n",
       "    </tr>\n",
       "    <tr>\n",
       "      <th>9</th>\n",
       "      <td>Officer_1</td>\n",
       "      <td>22</td>\n",
       "    </tr>\n",
       "    <tr>\n",
       "      <th>10</th>\n",
       "      <td>Officer_2</td>\n",
       "      <td>21</td>\n",
       "    </tr>\n",
       "    <tr>\n",
       "      <th>11</th>\n",
       "      <td>Officer_3</td>\n",
       "      <td>16</td>\n",
       "    </tr>\n",
       "    <tr>\n",
       "      <th>12</th>\n",
       "      <td>Officer_1</td>\n",
       "      <td>11</td>\n",
       "    </tr>\n",
       "    <tr>\n",
       "      <th>13</th>\n",
       "      <td>Officer_2</td>\n",
       "      <td>17</td>\n",
       "    </tr>\n",
       "    <tr>\n",
       "      <th>14</th>\n",
       "      <td>Officer_3</td>\n",
       "      <td>22</td>\n",
       "    </tr>\n",
       "    <tr>\n",
       "      <th>15</th>\n",
       "      <td>Officer_1</td>\n",
       "      <td>0</td>\n",
       "    </tr>\n",
       "    <tr>\n",
       "      <th>16</th>\n",
       "      <td>Officer_2</td>\n",
       "      <td>0</td>\n",
       "    </tr>\n",
       "    <tr>\n",
       "      <th>17</th>\n",
       "      <td>Officer_3</td>\n",
       "      <td>15</td>\n",
       "    </tr>\n",
       "  </tbody>\n",
       "</table>\n",
       "</div>"
      ],
      "text/plain": [
       "      Officer  Performance\n",
       "0   Officer_1           15\n",
       "1   Officer_2           22\n",
       "2   Officer_3           18\n",
       "3   Officer_1           18\n",
       "4   Officer_2           27\n",
       "5   Officer_3           24\n",
       "6   Officer_1           19\n",
       "7   Officer_2           18\n",
       "8   Officer_3           19\n",
       "9   Officer_1           22\n",
       "10  Officer_2           21\n",
       "11  Officer_3           16\n",
       "12  Officer_1           11\n",
       "13  Officer_2           17\n",
       "14  Officer_3           22\n",
       "15  Officer_1            0\n",
       "16  Officer_2            0\n",
       "17  Officer_3           15"
      ]
     },
     "execution_count": 98,
     "metadata": {},
     "output_type": "execute_result"
    }
   ],
   "source": [
    "data"
   ]
  },
  {
   "cell_type": "code",
   "execution_count": 99,
   "id": "3df62bd1",
   "metadata": {},
   "outputs": [],
   "source": [
    "Off_1 = data[data.Officer=='Officer_1']['Performance']\n",
    "Off_2 = data[data.Officer=='Officer_2']['Performance']\n",
    "Off_3 = data[data.Officer=='Officer_3']['Performance']"
   ]
  },
  {
   "cell_type": "code",
   "execution_count": 100,
   "id": "59069b97",
   "metadata": {},
   "outputs": [
    {
     "data": {
      "text/plain": [
       "0     15\n",
       "3     18\n",
       "6     19\n",
       "9     22\n",
       "12    11\n",
       "15     0\n",
       "Name: Performance, dtype: int64"
      ]
     },
     "execution_count": 100,
     "metadata": {},
     "output_type": "execute_result"
    }
   ],
   "source": [
    "Off_1"
   ]
  },
  {
   "cell_type": "code",
   "execution_count": 101,
   "id": "1b58c095",
   "metadata": {},
   "outputs": [
    {
     "data": {
      "text/plain": [
       "1     22\n",
       "4     27\n",
       "7     18\n",
       "10    21\n",
       "13    17\n",
       "16     0\n",
       "Name: Performance, dtype: int64"
      ]
     },
     "execution_count": 101,
     "metadata": {},
     "output_type": "execute_result"
    }
   ],
   "source": [
    "Off_2"
   ]
  },
  {
   "cell_type": "code",
   "execution_count": 102,
   "id": "d5469227",
   "metadata": {},
   "outputs": [
    {
     "data": {
      "text/plain": [
       "2     18\n",
       "5     24\n",
       "8     19\n",
       "11    16\n",
       "14    22\n",
       "17    15\n",
       "Name: Performance, dtype: int64"
      ]
     },
     "execution_count": 102,
     "metadata": {},
     "output_type": "execute_result"
    }
   ],
   "source": [
    "Off_3"
   ]
  },
  {
   "cell_type": "code",
   "execution_count": 103,
   "id": "6d5687f3",
   "metadata": {},
   "outputs": [
    {
     "name": "stdout",
     "output_type": "stream",
     "text": [
      "test statistic=0.6883, p value=0.51764\n"
     ]
    }
   ],
   "source": [
    "from scipy.stats import f_oneway\n",
    "\n",
    "test_stat, p_value = f_oneway(Off_1, Off_2, Off_3)\n",
    "print('test statistic=%.4f, p value=%.5f' %(test_stat, p_value))"
   ]
  },
  {
   "cell_type": "code",
   "execution_count": null,
   "id": "b24e2f81",
   "metadata": {},
   "outputs": [],
   "source": []
  },
  {
   "cell_type": "code",
   "execution_count": 104,
   "id": "36593c8e",
   "metadata": {},
   "outputs": [],
   "source": [
    "# A company has three manufacturing plants, and company officials want to determine whether there is a difference \n",
    "# in the average age of workers at the three locations. The following data are the ages of five randomly selected workers \n",
    "# at each plant. \n",
    "\n",
    "# Perform a one-way ANOVA to determine whether there is a significant difference in the mean ages of the workers at the \n",
    "# three plants. \n",
    "# Use alpha = .01 and note that the sample sizes are equal.\n",
    "\n",
    "plant_1 = [29,27,30,27,28]\n",
    "plant_2 = [32,33,31,34,30]\n",
    "plant_3 = [25,24,24,25,26]\n",
    "\n",
    "# To test Ho: The average age of the workers at the three plants are equal\n",
    "# against Ha: Atleast one of the means is different from the others"
   ]
  },
  {
   "cell_type": "code",
   "execution_count": 105,
   "id": "5d50c35d",
   "metadata": {},
   "outputs": [
    {
     "name": "stdout",
     "output_type": "stream",
     "text": [
      "test statistic=39.7143, p value=0.00001\n"
     ]
    }
   ],
   "source": [
    "from scipy.stats import f_oneway\n",
    "\n",
    "test_stat, p_value = f_oneway(plant_1, plant_2, plant_3)\n",
    "print('test statistic=%.4f, p value=%.5f' %(test_stat, p_value))"
   ]
  },
  {
   "cell_type": "code",
   "execution_count": null,
   "id": "71697b75",
   "metadata": {},
   "outputs": [],
   "source": [
    "# Since the p value is < alpha(0.05), we reject Ho and conclude that the average age of the workers at one of the plant is \n",
    "# different from the others"
   ]
  },
  {
   "cell_type": "code",
   "execution_count": 106,
   "id": "3f11dbf6",
   "metadata": {},
   "outputs": [
    {
     "data": {
      "text/plain": [
       "<AxesSubplot:title={'center':'age'}, xlabel='plant'>"
      ]
     },
     "execution_count": 106,
     "metadata": {},
     "output_type": "execute_result"
    },
    {
     "data": {
      "image/png": "[encoded data removed]",
      "text/plain": [
       "<Figure size 864x576 with 1 Axes>"
      ]
     },
     "metadata": {
      "needs_background": "light"
     },
     "output_type": "display_data"
    }
   ],
   "source": [
    "# But how do we know that?\n",
    "\n",
    "# Creating Boxplot\n",
    "\n",
    "data = pd.DataFrame({'plant':[1,1,1,1,1,   2,2,2,2,2,   3,3,3,3,3],\n",
    "                    'age':[29,27,30,27,28,   32,33,31,34,30,   25,24,24,25,26]})\n",
    "\n",
    "data.boxplot('age',by='plant', figsize=(12,8))"
   ]
  },
  {
   "cell_type": "code",
   "execution_count": 109,
   "id": "b3a3500c",
   "metadata": {},
   "outputs": [
    {
     "name": "stdout",
     "output_type": "stream",
     "text": [
      "Multiple Comparison of Means - Tukey HSD, FWER=0.05 \n",
      "====================================================\n",
      "group1 group2 meandiff p-adj   lower   upper  reject\n",
      "----------------------------------------------------\n",
      "     1      2      3.8 0.0014  1.6447  5.9553   True\n",
      "     1      3     -3.4 0.0032 -5.5553 -1.2447   True\n",
      "     2      3     -7.2  0.001 -9.3553 -5.0447   True\n",
      "----------------------------------------------------\n"
     ]
    }
   ],
   "source": [
    "# ANOVA Tukey's HSD Test for pairwise multiple comparisons.\n",
    "\n",
    "# endog ----> dependent variable (continuous in nature)\n",
    "# groups ----> categorical variable\n",
    "\n",
    "# For three age groups\n",
    "\n",
    "# Ho: mean_1 = mean_2      against  Ha:  mean_1 not equal to mean_2\n",
    "# Ho: mean_1 = mean_2      against  Ha:  mean_1 not equal to mean_2\n",
    "# Ho: mean_1 = mean_2      against  Ha:  mean_1 not equal to mean_2\n",
    "\n",
    "\n",
    "from statsmodels.stats.multicomp import pairwise_tukeyhsd\n",
    "\n",
    "m_comp = pairwise_tukeyhsd(endog = data['age'], groups=data['plant'], alpha=0.05)\n",
    "\n",
    "print(m_comp)"
   ]
  },
  {
   "cell_type": "code",
   "execution_count": 110,
   "id": "11f724cd",
   "metadata": {},
   "outputs": [],
   "source": [
    "# Since p value is < alpha for all the three possible pairwise comparisons\n",
    "# We can conclude that the mean ages between any and all pairs of plants are significantly different"
   ]
  },
  {
   "cell_type": "code",
   "execution_count": 113,
   "id": "15d7450e",
   "metadata": {},
   "outputs": [],
   "source": [
    "# Alt way\n",
    "\n",
    "import statsmodels.api as sm\n",
    "from statsmodels.formula.api import ols\n",
    "\n",
    "model = ols('age ~ C(plant)',data=data ).fit()\n",
    "\n",
    "aov_table = sm.stats.anova_lm(model, typ=2)"
   ]
  },
  {
   "cell_type": "code",
   "execution_count": 114,
   "id": "7b005b88",
   "metadata": {},
   "outputs": [
    {
     "name": "stdout",
     "output_type": "stream",
     "text": [
      "              sum_sq    df          F    PR(>F)\n",
      "C(plant)  129.733333   2.0  39.714286  0.000005\n",
      "Residual   19.600000  12.0        NaN       NaN\n"
     ]
    }
   ],
   "source": [
    "print(aov_table)"
   ]
  },
  {
   "cell_type": "code",
   "execution_count": 115,
   "id": "07980c89",
   "metadata": {},
   "outputs": [],
   "source": [
    "# Since the p value(0.00005) is < alpha(0.05), we reject Ho and conclude that the average age of the workers at one of the \n",
    "# plant is different from the others"
   ]
  },
  {
   "cell_type": "code",
   "execution_count": 141,
   "id": "52e807a3",
   "metadata": {},
   "outputs": [],
   "source": [
    "# Non parametric tests\n",
    "\n",
    "# Non-parametric tests are distribution-free statistics because they can be used without considering the shape of \n",
    "# the population distribution.\n",
    "\n",
    "# They are used for nominal or ordinal scale data\n",
    "\n",
    "\n",
    "# Chi Square Goodness of Fit test\n",
    "\n",
    "# Extension of binomial distribution where more than two possible outcomes can occur in a single trial.\n",
    "\n",
    "# Data is nominal or ordinal in nature.\n",
    "\n",
    "# Here we compare the expected frequencies of categories from a population distribution to the observed frequencies \n",
    "# from a distribution\n",
    "\n",
    "#i.e. here we check whether there is a difference between what was expected and what was observed.\n",
    "\n",
    "\n",
    "# To test Ho:  observed distribution = expected distribution   \n",
    "# against  Ha:  observed distribution is not equal to the expected distribution\n",
    "\n",
    "# Problem\n",
    "\n",
    "# A computer programmer has developed an algorithm for generating five first 5 alphabets at random and the code has given the\n",
    "# following result when ran 500 times\n",
    "\n",
    "# Alphabets     A            B            C          D           E\n",
    "# Frequency     104          112          102        94          88\n",
    "\n",
    "# Is there evidence that there is good fit to show that random alphabet generator is working correctly?\n",
    "# Use alpha = 0.05"
   ]
  },
  {
   "cell_type": "code",
   "execution_count": 147,
   "id": "16e9f7a5",
   "metadata": {},
   "outputs": [
    {
     "data": {
      "text/plain": [
       "3.44"
      ]
     },
     "execution_count": 147,
     "metadata": {},
     "output_type": "execute_result"
    }
   ],
   "source": [
    "obs_freq = np.array([104,112,102,94,88])\n",
    "\n",
    "exp_freq = np.array([100,100,100,100,100])\n",
    "\n",
    "chi_square_stat = ((obs_freq - exp_freq)**2/exp_freq).sum()\n",
    "chi_square_stat"
   ]
  },
  {
   "cell_type": "code",
   "execution_count": 146,
   "id": "822c4d60",
   "metadata": {},
   "outputs": [
    {
     "data": {
      "text/plain": [
       "Power_divergenceResult(statistic=3.44, pvalue=0.4870599223192619)"
      ]
     },
     "execution_count": 146,
     "metadata": {},
     "output_type": "execute_result"
    }
   ],
   "source": [
    "import scipy.stats as st\n",
    "\n",
    "st.chisquare(obs_freq,exp_freq)"
   ]
  },
  {
   "cell_type": "code",
   "execution_count": 148,
   "id": "73033415",
   "metadata": {},
   "outputs": [],
   "source": [
    "# Since p value is not < alpha, we fail to reject Ho and conclude that there is no evidence to suggest that the\n",
    "# random alphabet generator is working correctly at 5% level of significance"
   ]
  },
  {
   "cell_type": "code",
   "execution_count": 151,
   "id": "3c5b59b2",
   "metadata": {},
   "outputs": [
    {
     "name": "stdout",
     "output_type": "stream",
     "text": [
      "test stat=14.4636, p value=0.0007\n"
     ]
    }
   ],
   "source": [
    "# Chi square test of Independence\n",
    "\n",
    "# Here we test whether the two variables (with multiple categories) are independent or not\n",
    "\n",
    "# To test    Ho: Variable 1 is independent of Variable 2     \n",
    "# against    Ha:  Variable 1 is not independent of Variable 2\n",
    "\n",
    "# A Company has chosen three pension plans. Management wishes to know whether the preference for plans is independent of\n",
    "# job classification and wants to use alpha = 0.05. The opinion of a random sample of 500 employees are shown below:\n",
    "\n",
    "#                                        PENSION PLAN\n",
    "#            JOB CLASSIFICATION     1         2        3        TOTAL\n",
    "\n",
    "#            Salaried Workers       21        36       30        87\n",
    "#            Hourly Workers         48        26       19        93\n",
    "\n",
    "#             TOTAL                 69        62       49        180\n",
    "\n",
    "\n",
    "from scipy.stats import chi2_contingency\n",
    "\n",
    "table = [[21,36,30],[48,26,19]]\n",
    "\n",
    "test_stat, p_value, dof, expected = chi2_contingency(table)\n",
    "\n",
    "print('test stat=%.4f, p value=%.4f' %(test_stat, p_value))\n"
   ]
  },
  {
   "cell_type": "code",
   "execution_count": null,
   "id": "6cda1adb",
   "metadata": {},
   "outputs": [],
   "source": []
  }
 ],
 "metadata": {
  "kernelspec": {
   "display_name": "Python 3",
   "language": "python",
   "name": "python3"
  },
  "language_info": {
   "codemirror_mode": {
    "name": "ipython",
    "version": 3
   },
   "file_extension": ".py",
   "mimetype": "text/x-python",
   "name": "python",
   "nbconvert_exporter": "python",
   "pygments_lexer": "ipython3",
   "version": "3.8.8"
  }
 },
 "nbformat": 4,
 "nbformat_minor": 5
}
